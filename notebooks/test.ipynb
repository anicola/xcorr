{
 "cells": [
  {
   "cell_type": "markdown",
   "metadata": {},
   "source": [
    "## Test the recovery of curved-sky power spectra with Gaussian mocks"
   ]
  },
  {
   "cell_type": "code",
   "execution_count": 1,
   "metadata": {
    "collapsed": false,
    "jupyter": {
     "outputs_hidden": false
    }
   },
   "outputs": [],
   "source": [
    "import numpy as np\n",
    "import os\n",
    "import sys\n",
    "import matplotlib.pyplot as plt\n",
    "import matplotlib\n",
    "from matplotlib import cm\n",
    "from astropy.io import fits\n",
    "from astropy.table import Table, vstack\n",
    "import healpy as hp\n",
    "from pixell import enmap\n",
    "import pymaster as nmt\n",
    "import copy\n",
    "\n",
    "# to use matplotlib with jupiter\n",
    "import matplotlib as mpl\n",
    "mpl.rc('text', usetex=False)\n",
    "mpl.rc('font', family='serif')\n",
    "%matplotlib inline"
   ]
  },
  {
   "cell_type": "code",
   "execution_count": 2,
   "metadata": {},
   "outputs": [],
   "source": [
    "nSide = 2014"
   ]
  },
  {
   "cell_type": "code",
   "execution_count": 4,
   "metadata": {},
   "outputs": [
    {
     "data": {
      "text/plain": [
       "\u001b[0;31mSignature:\u001b[0m \u001b[0mnmt\u001b[0m\u001b[0;34m.\u001b[0m\u001b[0msynfast_spherical\u001b[0m\u001b[0;34m(\u001b[0m\u001b[0mnside\u001b[0m\u001b[0;34m,\u001b[0m \u001b[0mcls\u001b[0m\u001b[0;34m,\u001b[0m \u001b[0mspin_arr\u001b[0m\u001b[0;34m,\u001b[0m \u001b[0mbeam\u001b[0m\u001b[0;34m=\u001b[0m\u001b[0mNone\u001b[0m\u001b[0;34m,\u001b[0m \u001b[0mseed\u001b[0m\u001b[0;34m=\u001b[0m\u001b[0;34m-\u001b[0m\u001b[0;36m1\u001b[0m\u001b[0;34m,\u001b[0m \u001b[0mwcs\u001b[0m\u001b[0;34m=\u001b[0m\u001b[0mNone\u001b[0m\u001b[0;34m)\u001b[0m\u001b[0;34m\u001b[0m\u001b[0m\n",
       "\u001b[0;31mDocstring:\u001b[0m\n",
       "Generates a full-sky Gaussian random field according to a given     power spectrum. This function should produce outputs similar to     healpy's synfast.\n",
       "\n",
       ":param int nside: HEALpix resolution parameter. If you want         rectangular pixel maps, ignore this parameter and pass a         WCS object as `wcs` (see below).\n",
       ":param array-like cls: array containing power spectra. Shape         should be [n_cls][n_ell], where n_cls is the number of power         spectra needed to define all the fields. This should be         n_cls = n_maps * (n_maps + 1) / 2, where n_maps is the total         number of maps required (1 for each spin-0 field, 2 for each         spin-2 field). Power spectra must be provided only for the         upper-triangular part in row-major order (e.g. if n_maps is         3, there will be 6 power spectra ordered as         [1-1,1-2,1-3,2-2,2-3,3-3].\n",
       ":param array-like spin_arr: array containing the spins of all the         fields to generate.\n",
       ":param beam array-like: 2D array containing the instrumental beam         of each field to simulate (the output map(s) will be convolved         with it)\n",
       ":param int seed: RNG seed. If negative, will use a random seed.\n",
       ":param wcs: a WCS object         (see http://docs.astropy.org/en/stable/wcs/index.html).\n",
       ":return: a number of full-sky maps (1 for each spin-0 field, 2 for         each spin-2 field).\n",
       "\u001b[0;31mFile:\u001b[0m      ~/.conda/envs/namaster2.7/lib/python2.7/site-packages/pymaster/utils.py\n",
       "\u001b[0;31mType:\u001b[0m      function\n"
      ]
     },
     "metadata": {},
     "output_type": "display_data"
    }
   ],
   "source": [
    "nmt.synfast_spherical?"
   ]
  },
  {
   "cell_type": "code",
   "execution_count": 10,
   "metadata": {},
   "outputs": [],
   "source": [
    "clArray = np.ones((1,3 *nSide))"
   ]
  },
  {
   "cell_type": "code",
   "execution_count": 12,
   "metadata": {},
   "outputs": [
    {
     "ename": "ValueError",
     "evalue": "Something is wrong with your input arrays",
     "output_type": "error",
     "traceback": [
      "\u001b[0;31m\u001b[0m",
      "\u001b[0;31mValueError\u001b[0mTraceback (most recent call last)",
      "\u001b[0;32m<ipython-input-12-ba370d48c272>\u001b[0m in \u001b[0;36m<module>\u001b[0;34m()\u001b[0m\n\u001b[1;32m      1\u001b[0m \u001b[0;31m# Generate a mock healpy map\u001b[0m\u001b[0;34m\u001b[0m\u001b[0;34m\u001b[0m\u001b[0m\n\u001b[0;32m----> 2\u001b[0;31m \u001b[0mmaps\u001b[0m \u001b[0;34m=\u001b[0m \u001b[0mnmt\u001b[0m\u001b[0;34m.\u001b[0m\u001b[0msynfast_spherical\u001b[0m\u001b[0;34m(\u001b[0m\u001b[0mnSide\u001b[0m\u001b[0;34m,\u001b[0m \u001b[0mclArray\u001b[0m\u001b[0;34m,\u001b[0m \u001b[0mspin_arr\u001b[0m\u001b[0;34m=\u001b[0m\u001b[0mnp\u001b[0m\u001b[0;34m.\u001b[0m\u001b[0marray\u001b[0m\u001b[0;34m(\u001b[0m\u001b[0;34m[\u001b[0m\u001b[0;36m0\u001b[0m\u001b[0;34m]\u001b[0m\u001b[0;34m)\u001b[0m\u001b[0;34m,\u001b[0m \u001b[0mseed\u001b[0m\u001b[0;34m=\u001b[0m\u001b[0;34m-\u001b[0m\u001b[0;36m1\u001b[0m\u001b[0;34m,\u001b[0m \u001b[0mbeam\u001b[0m\u001b[0;34m=\u001b[0m\u001b[0mTrue\u001b[0m\u001b[0;34m)\u001b[0m\u001b[0;34m\u001b[0m\u001b[0m\n\u001b[0m",
      "\u001b[0;32m/global/homes/e/eschaan/.conda/envs/namaster2.7/lib/python2.7/site-packages/pymaster/utils.pyc\u001b[0m in \u001b[0;36msynfast_spherical\u001b[0;34m(nside, cls, spin_arr, beam, seed, wcs)\u001b[0m\n\u001b[1;32m    195\u001b[0m         \u001b[0mn_dec\u001b[0m \u001b[0;34m=\u001b[0m \u001b[0mint\u001b[0m\u001b[0;34m(\u001b[0m\u001b[0mround\u001b[0m\u001b[0;34m(\u001b[0m\u001b[0;36m180.\u001b[0m\u001b[0;34m/\u001b[0m\u001b[0mnp\u001b[0m\u001b[0;34m.\u001b[0m\u001b[0mfabs\u001b[0m\u001b[0;34m(\u001b[0m\u001b[0mwcs\u001b[0m\u001b[0;34m.\u001b[0m\u001b[0mwcs\u001b[0m\u001b[0;34m.\u001b[0m\u001b[0mcdelt\u001b[0m\u001b[0;34m[\u001b[0m\u001b[0;36m1\u001b[0m\u001b[0;34m]\u001b[0m\u001b[0;34m)\u001b[0m\u001b[0;34m)\u001b[0m\u001b[0;34m)\u001b[0m\u001b[0;34m+\u001b[0m\u001b[0;36m1\u001b[0m\u001b[0;34m\u001b[0m\u001b[0m\n\u001b[1;32m    196\u001b[0m         \u001b[0mwtshape\u001b[0m \u001b[0;34m=\u001b[0m \u001b[0;34m[\u001b[0m\u001b[0mn_dec\u001b[0m\u001b[0;34m,\u001b[0m \u001b[0mn_ra\u001b[0m\u001b[0;34m]\u001b[0m\u001b[0;34m\u001b[0m\u001b[0m\n\u001b[0;32m--> 197\u001b[0;31m     \u001b[0mwt\u001b[0m \u001b[0;34m=\u001b[0m \u001b[0mNmtWCSTranslator\u001b[0m\u001b[0;34m(\u001b[0m\u001b[0mwcs\u001b[0m\u001b[0;34m,\u001b[0m \u001b[0mwtshape\u001b[0m\u001b[0;34m)\u001b[0m\u001b[0;34m\u001b[0m\u001b[0m\n\u001b[0m\u001b[1;32m    198\u001b[0m \u001b[0;34m\u001b[0m\u001b[0m\n\u001b[1;32m    199\u001b[0m     \u001b[0;32mif\u001b[0m \u001b[0mwcs\u001b[0m \u001b[0;32mis\u001b[0m \u001b[0;32mnot\u001b[0m \u001b[0mNone\u001b[0m\u001b[0;34m:\u001b[0m  \u001b[0;31m# Check that theta_min and theta_max are 0 and pi\u001b[0m\u001b[0;34m\u001b[0m\u001b[0m\n",
      "\u001b[0;32m/global/homes/e/eschaan/.conda/envs/namaster2.7/lib/python2.7/site-packages/pymaster/utils.pyc\u001b[0m in \u001b[0;36m__init__\u001b[0;34m(self, wcs, axes)\u001b[0m\n\u001b[1;32m     20\u001b[0m                 \u001b[0mnside\u001b[0m \u001b[0;34m*=\u001b[0m \u001b[0;36m2\u001b[0m\u001b[0;34m\u001b[0m\u001b[0m\n\u001b[1;32m     21\u001b[0m                 \u001b[0;32mif\u001b[0m \u001b[0mnside\u001b[0m \u001b[0;34m>\u001b[0m \u001b[0;36m65536\u001b[0m\u001b[0;34m:\u001b[0m\u001b[0;34m\u001b[0m\u001b[0m\n\u001b[0;32m---> 22\u001b[0;31m                     raise ValueError(\"Something is wrong \"\n\u001b[0m\u001b[1;32m     23\u001b[0m                                      \"with your input arrays\")\n\u001b[1;32m     24\u001b[0m             \u001b[0mnpix\u001b[0m \u001b[0;34m=\u001b[0m \u001b[0;36m12\u001b[0m\u001b[0;34m*\u001b[0m\u001b[0mnside\u001b[0m\u001b[0;34m*\u001b[0m\u001b[0mnside\u001b[0m\u001b[0;34m\u001b[0m\u001b[0m\n",
      "\u001b[0;31mValueError\u001b[0m: Something is wrong with your input arrays"
     ]
    }
   ],
   "source": [
    "# Generate a mock healpy map\n",
    "maps = nmt.synfast_spherical(nSide, clArray, spin_arr=np.array([0]), seed=-1, beam=True)"
   ]
  },
  {
   "cell_type": "code",
   "execution_count": 13,
   "metadata": {},
   "outputs": [],
   "source": [
    "path = '/global/cscratch1/sd/sferraro/SOxpipe/input_cl/ncl_kk.txt'\n",
    "\n",
    "noisecls = np.genfromtxt(path)"
   ]
  },
  {
   "cell_type": "code",
   "execution_count": 15,
   "metadata": {},
   "outputs": [
    {
     "data": {
      "text/plain": [
       "(9999, 2)"
      ]
     },
     "execution_count": 15,
     "metadata": {},
     "output_type": "execute_result"
    }
   ],
   "source": [
    "noisecls.shape"
   ]
  },
  {
   "cell_type": "code",
   "execution_count": 16,
   "metadata": {},
   "outputs": [
    {
     "data": {
      "image/png": "[encoded data removed]",
      "text/plain": [
       "<Figure size 432x288 with 1 Axes>"
      ]
     },
     "metadata": {
      "needs_background": "light"
     },
     "output_type": "display_data"
    }
   ],
   "source": [
    "plt.loglog(noisecls[:,0], noisecls[:,1])\n",
    "plt.show()"
   ]
  },
  {
   "cell_type": "code",
   "execution_count": 20,
   "metadata": {},
   "outputs": [
    {
     "name": "stdout",
     "output_type": "stream",
     "text": [
      "1.0\n",
      "0.0\n"
     ]
    }
   ],
   "source": [
    "print np.mean(noisecls[1:,0]-noisecls[:-1,0])\n",
    "print np.var(noisecls[1:,0]-noisecls[:-1,0])"
   ]
  },
  {
   "cell_type": "code",
   "execution_count": 32,
   "metadata": {},
   "outputs": [
    {
     "data": {
      "text/plain": [
       "1"
      ]
     },
     "execution_count": 32,
     "metadata": {},
     "output_type": "execute_result"
    }
   ],
   "source": [
    "np.sum(noisecls[:,1]<=0.)"
   ]
  },
  {
   "cell_type": "code",
   "execution_count": 33,
   "metadata": {},
   "outputs": [
    {
     "data": {
      "text/plain": [
       "array([0.00000000e+00, 5.31889711e-05, 7.69571344e-05, ...,\n",
       "       2.67117342e-07, 2.67074912e-07, 2.67032493e-07])"
      ]
     },
     "execution_count": 33,
     "metadata": {},
     "output_type": "execute_result"
    }
   ],
   "source": [
    "noisecls[:,1]"
   ]
  },
  {
   "cell_type": "code",
   "execution_count": 21,
   "metadata": {},
   "outputs": [],
   "source": [
    "pathcls = '/global/cscratch1/sd/sferraro/SOxpipe/input_cl/cl_kk.txt'\n",
    "\n",
    "cls = np.genfromtxt(pathcls)"
   ]
  },
  {
   "cell_type": "code",
   "execution_count": 23,
   "metadata": {},
   "outputs": [
    {
     "data": {
      "text/plain": [
       "(9999, 2)"
      ]
     },
     "execution_count": 23,
     "metadata": {},
     "output_type": "execute_result"
    }
   ],
   "source": [
    "cls.shape"
   ]
  },
  {
   "cell_type": "code",
   "execution_count": 25,
   "metadata": {},
   "outputs": [
    {
     "data": {
      "image/png": "[encoded data removed]",
      "text/plain": [
       "<Figure size 432x288 with 1 Axes>"
      ]
     },
     "metadata": {
      "needs_background": "light"
     },
     "output_type": "display_data"
    }
   ],
   "source": [
    "plt.loglog(cls[:,0], cls[:,1])\n",
    "plt.show()"
   ]
  },
  {
   "cell_type": "code",
   "execution_count": 26,
   "metadata": {},
   "outputs": [
    {
     "data": {
      "text/plain": [
       "array([0.00000000e+00, 5.31889711e-08, 7.69571344e-08, ...,\n",
       "       2.67117342e-10, 2.67074912e-10, 2.67032493e-10])"
      ]
     },
     "execution_count": 26,
     "metadata": {},
     "output_type": "execute_result"
    }
   ],
   "source": [
    "cls[:,1]"
   ]
  },
  {
   "cell_type": "code",
   "execution_count": 27,
   "metadata": {},
   "outputs": [
    {
     "name": "stdout",
     "output_type": "stream",
     "text": [
      "1.0\n",
      "0.0\n"
     ]
    }
   ],
   "source": [
    "print np.mean(cls[1:,0]-cls[:-1,0])\n",
    "print np.var(cls[1:,0]-cls[:-1,0])"
   ]
  },
  {
   "cell_type": "code",
   "execution_count": 29,
   "metadata": {},
   "outputs": [
    {
     "data": {
      "text/plain": [
       "0"
      ]
     },
     "execution_count": 29,
     "metadata": {},
     "output_type": "execute_result"
    }
   ],
   "source": [
    "np.sum(cls<0.)"
   ]
  },
  {
   "cell_type": "code",
   "execution_count": null,
   "metadata": {},
   "outputs": [],
   "source": []
  }
 ],
 "metadata": {
  "kernelspec": {
   "display_name": "Namaster2.7",
   "language": "python",
   "name": "namaster2.7"
  },
  "language_info": {
   "codemirror_mode": {
    "name": "ipython",
    "version": 2
   },
   "file_extension": ".py",
   "mimetype": "text/x-python",
   "name": "python",
   "nbconvert_exporter": "python",
   "pygments_lexer": "ipython2",
   "version": "2.7.16"
  }
 },
 "nbformat": 4,
 "nbformat_minor": 4
}
