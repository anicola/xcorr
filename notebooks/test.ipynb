{
 "cells": [
  {
   "cell_type": "markdown",
   "metadata": {},
   "source": [
    "## Test the recovery of curved-sky power spectra with Gaussian mocks"
   ]
  },
  {
   "cell_type": "code",
   "execution_count": 2,
   "metadata": {
    "collapsed": false,
    "jupyter": {
     "outputs_hidden": false
    }
   },
   "outputs": [],
   "source": [
    "import numpy as np\n",
    "import os\n",
    "import sys\n",
    "import matplotlib.pyplot as plt\n",
    "import matplotlib\n",
    "from matplotlib import cm\n",
    "from astropy.io import fits\n",
    "from astropy.table import Table, vstack\n",
    "import healpy as hp\n",
    "from pixell import enmap\n",
    "import pymaster as nmt\n",
    "import copy\n",
    "\n",
    "# to use matplotlib with jupiter\n",
    "import matplotlib as mpl\n",
    "mpl.rc('text', usetex=False)\n",
    "mpl.rc('font', family='serif')\n",
    "%matplotlib inline"
   ]
  },
  {
   "cell_type": "markdown",
   "metadata": {},
   "source": [
    "# No masking"
   ]
  },
  {
   "cell_type": "code",
   "execution_count": 3,
   "metadata": {},
   "outputs": [],
   "source": [
    "pathOutputDir = \"/global/cscratch1/sd/sferraro/SOxpipe/input_cl/sims_grf/mocks_gks_lsstxso_curved\"\n",
    "nameOutputClFile = \"test0\""
   ]
  },
  {
   "cell_type": "code",
   "execution_count": null,
   "metadata": {},
   "outputs": [],
   "source": [
    "# Read decoupled cl and cov\n",
    "\n",
    "# Read measured cl\n",
    "data = np.genfromtxt(pathOutputDir + nameOutputClFile + \"_measuredcl.txt\")\n",
    "ellM = data[:,0]\n",
    "clM = data[:,1]\n",
    "\n",
    "# Read theory cl\n",
    "data = np.genfromtxt(pathOutputDir + nameOutputClFile + \"_theorycl.txt\")\n",
    "ellT = data[:,0]\n",
    "clT = data[:,1]\n",
    "\n",
    "# Read theory cov\n",
    "covT = np.genfromtxt(pathOutputDir + nameOutputClFile + \"_theorycov.txt\")"
   ]
  },
  {
   "cell_type": "code",
   "execution_count": null,
   "metadata": {},
   "outputs": [],
   "source": [
    "fig=plt.figure(0)\n",
    "ax=fig.add_subplot(111)\n",
    "#\n",
    "ax.errorbar(ellM, clM, yerr=np.sqrt(np.diag(covT)), c='b', label=r'Measured, decoupled')\n",
    "ax.errorbar(ellM, -clM, yerr=np.sqrt(np.diag(cov)), c='r')\n",
    "ax.plot(ellT, clT[0], '.', label=r'Theory, binned \\& decoupled')\n",
    "# ax.plot(ells, fClTheory(ells), label=r'Theory')\n",
    "#\n",
    "ax.set_yscale('log', nonposy='clip')\n",
    "ax.legend(loc=1)\n",
    "ax.set_xlabel(r'$\\ell$')\n",
    "ax.set_ylabel(r'$C_\\ell$')\n",
    "\n",
    "\n",
    "fig=plt.figure(1)\n",
    "ax=fig.add_subplot(111)\n",
    "#\n",
    "#ax.plot(lCenBinnedHp, ClBinnedHp / ClTheoryBinnedHp - 1., 'g.')\n",
    "\n",
    "ax.errorbar(ellM, clM/clT -1., yerr=np.sqrt(np.diag(cov))/clT, c='b')\n",
    "ax.axhline(0., color='k')\n",
    "#\n",
    "ax.set_xlabel(r'$\\ell$')\n",
    "#ax.set_ylabel(r'$C_\\ell^\\text{measured} / C_\\ell^\\text{th binned} - 1$')\n",
    "\n",
    "\n",
    "\n",
    "plt.show()\n"
   ]
  },
  {
   "cell_type": "markdown",
   "metadata": {},
   "source": [
    "# Masking, no apodization"
   ]
  },
  {
   "cell_type": "code",
   "execution_count": 4,
   "metadata": {},
   "outputs": [
    {
     "data": {
      "text/plain": [
       "\u001b[0;31mSignature:\u001b[0m \u001b[0mhp\u001b[0m\u001b[0;34m.\u001b[0m\u001b[0mud_grade\u001b[0m\u001b[0;34m(\u001b[0m\u001b[0mmap_in\u001b[0m\u001b[0;34m,\u001b[0m \u001b[0;34m*\u001b[0m\u001b[0margs\u001b[0m\u001b[0;34m,\u001b[0m \u001b[0;34m**\u001b[0m\u001b[0mkwds\u001b[0m\u001b[0;34m)\u001b[0m\u001b[0;34m\u001b[0m\u001b[0m\n",
       "\u001b[0;31mDocstring:\u001b[0m\n",
       "Upgrade or degrade resolution of a map (or list of maps).\n",
       "\n",
       "in degrading the resolution, ud_grade sets the value of the superpixel\n",
       "as the mean of the children pixels.\n",
       "\n",
       "Parameters\n",
       "----------\n",
       "map_in : array-like or sequence of array-like\n",
       "  the input map(s) (if a sequence of maps, all must have same size)\n",
       "nside_out : int\n",
       "  the desired nside of the output map(s)\n",
       "pess : bool\n",
       "  if ``True``, in degrading, reject pixels which contains\n",
       "  a bad sub_pixel. Otherwise, estimate average with good pixels\n",
       "order_in, order_out : str\n",
       "  pixel ordering of input and output ('RING' or 'NESTED')\n",
       "power : float\n",
       "  if non-zero, divide the result by (nside_in/nside_out)**power\n",
       "  Examples:\n",
       "  power=-2 keeps the sum of the map invariant (useful for hitmaps),\n",
       "  power=2 divides the mean by another factor of (nside_in/nside_out)**2\n",
       "  (useful for variance maps)\n",
       "dtype : type\n",
       "  the type of the output map\n",
       "\n",
       "Returns\n",
       "-------\n",
       "map_out : array-like or sequence of array-like\n",
       "  the upgraded or degraded map(s)\n",
       "\n",
       "Examples\n",
       "--------\n",
       ">>> import healpy as hp\n",
       ">>> hp.ud_grade(np.arange(48.), 1)\n",
       "array([  5.5 ,   7.25,   9.  ,  10.75,  21.75,  21.75,  23.75,  25.75,\n",
       "        36.5 ,  38.25,  40.  ,  41.75])\n",
       "\u001b[0;31mFile:\u001b[0m      ~/.conda/envs/namaster2.7/lib/python2.7/site-packages/healpy/pixelfunc.py\n",
       "\u001b[0;31mType:\u001b[0m      function\n"
      ]
     },
     "metadata": {},
     "output_type": "display_data"
    }
   ],
   "source": [
    "hp.ud_grade?"
   ]
  },
  {
   "cell_type": "code",
   "execution_count": null,
   "metadata": {},
   "outputs": [],
   "source": []
  }
 ],
 "metadata": {
  "kernelspec": {
   "display_name": "Namaster2.7",
   "language": "python",
   "name": "namaster2.7"
  },
  "language_info": {
   "codemirror_mode": {
    "name": "ipython",
    "version": 2
   },
   "file_extension": ".py",
   "mimetype": "text/x-python",
   "name": "python",
   "nbconvert_exporter": "python",
   "pygments_lexer": "ipython2",
   "version": "2.7.16"
  }
 },
 "nbformat": 4,
 "nbformat_minor": 4
}
