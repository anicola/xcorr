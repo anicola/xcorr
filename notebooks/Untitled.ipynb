{
 "cells": [
  {
   "cell_type": "code",
   "execution_count": 1,
   "metadata": {},
   "outputs": [],
   "source": [
    "import healpy as hp"
   ]
  },
  {
   "cell_type": "code",
   "execution_count": 2,
   "metadata": {},
   "outputs": [
    {
     "name": "stdout",
     "output_type": "stream",
     "text": [
      "NSIDE = 1024\n",
      "ORDERING = RING in fits file\n",
      "INDXSCHM = IMPLICIT\n"
     ]
    }
   ],
   "source": [
    "path = \"/global/cscratch1/sd/sferraro/SOxpipe/masks/mask_LSST_SO_40pc_nside1024.fits\"\n",
    "mask = hp.read_map(path)"
   ]
  },
  {
   "cell_type": "code",
   "execution_count": 3,
   "metadata": {},
   "outputs": [
    {
     "data": {
      "text/plain": [
       "\u001b[0;31mSignature:\u001b[0m \u001b[0mhp\u001b[0m\u001b[0;34m.\u001b[0m\u001b[0msmoothing\u001b[0m\u001b[0;34m(\u001b[0m\u001b[0mmap_in\u001b[0m\u001b[0;34m,\u001b[0m \u001b[0;34m*\u001b[0m\u001b[0margs\u001b[0m\u001b[0;34m,\u001b[0m \u001b[0;34m**\u001b[0m\u001b[0mkwds\u001b[0m\u001b[0;34m)\u001b[0m\u001b[0;34m\u001b[0m\u001b[0m\n",
       "\u001b[0;31mDocstring:\u001b[0m\n",
       "Smooth a map with a Gaussian symmetric beam.\n",
       "\n",
       "No removal of monopole or dipole is performed.\n",
       "\n",
       "Parameters\n",
       "----------\n",
       "map_in : array or sequence of 3 arrays\n",
       "  Either an array representing one map, or a sequence of\n",
       "  3 arrays representing 3 maps, accepts masked arrays\n",
       "fwhm : float, optional\n",
       "  The full width half max parameter of the Gaussian [in\n",
       "  radians]. Default:0.0\n",
       "sigma : float, optional\n",
       "  The sigma of the Gaussian [in radians]. Override fwhm.\n",
       "beam_window: array, optional\n",
       "  Custom beam window function. Override fwhm and sigma.\n",
       "pol : bool, optional\n",
       "  If True, assumes input maps are TQU. Output will be TQU maps.\n",
       "  (input must be 1 or 3 alms)\n",
       "  If False, each map is assumed to be a spin 0 map and is\n",
       "  treated independently (input can be any number of alms).\n",
       "  If there is only one input map, it has no effect. Default: True.\n",
       "iter : int, scalar, optional\n",
       "  Number of iteration (default: 3)\n",
       "lmax : int, scalar, optional\n",
       "  Maximum l of the power spectrum. Default: 3*nside-1\n",
       "mmax : int, scalar, optional\n",
       "  Maximum m of the alm. Default: lmax\n",
       "use_weights: bool, scalar, optional\n",
       "  If True, use the ring weighting. Default: False.\n",
       "use_pixel_weights: bool, optional\n",
       "  If True, use pixel by pixel weighting, healpy will automatically download the weights, if needed\n",
       "datapath : None or str, optional\n",
       "  If given, the directory where to find the weights data.\n",
       "verbose : bool, optional\n",
       "  If True prints diagnostic information. Default: True\n",
       "\n",
       "Returns\n",
       "-------\n",
       "maps : array or list of 3 arrays\n",
       "  The smoothed map(s)\n",
       "\u001b[0;31mFile:\u001b[0m      ~/.conda/envs/namaster2.7/lib/python2.7/site-packages/healpy/pixelfunc.py\n",
       "\u001b[0;31mType:\u001b[0m      function\n"
      ]
     },
     "metadata": {},
     "output_type": "display_data"
    }
   ],
   "source": [
    "\n",
    "\n",
    "\n",
    "hp.smoothing(mask, fwhm=)"
   ]
  },
  {
   "cell_type": "code",
   "execution_count": null,
   "metadata": {},
   "outputs": [],
   "source": []
  }
 ],
 "metadata": {
  "kernelspec": {
   "display_name": "Namaster2.7",
   "language": "python",
   "name": "namaster2.7"
  },
  "language_info": {
   "codemirror_mode": {
    "name": "ipython",
    "version": 2
   },
   "file_extension": ".py",
   "mimetype": "text/x-python",
   "name": "python",
   "nbconvert_exporter": "python",
   "pygments_lexer": "ipython2",
   "version": "2.7.16"
  }
 },
 "nbformat": 4,
 "nbformat_minor": 4
}
